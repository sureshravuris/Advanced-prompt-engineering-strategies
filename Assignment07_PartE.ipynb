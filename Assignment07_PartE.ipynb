{
  "nbformat": 4,
  "nbformat_minor": 0,
  "metadata": {
    "colab": {
      "provenance": [],
      "toc_visible": true,
      "machine_shape": "hm",
      "gpuType": "T4",
      "authorship_tag": "ABX9TyMjP+EGv77yGRqoMmOzb5Yy",
      "include_colab_link": true
    },
    "kernelspec": {
      "name": "python3",
      "display_name": "Python 3"
    },
    "language_info": {
      "name": "python"
    },
    "accelerator": "GPU"
  },
  "cells": [
    {
      "cell_type": "markdown",
      "metadata": {
        "id": "view-in-github",
        "colab_type": "text"
      },
      "source": [
        "<a href=\"https://colab.research.google.com/github/schumbar/CMPE297/blob/main/assignment_07/ShawnChumbar_Assignment07_PartE.ipynb\" target=\"_parent\"><img src=\"https://colab.research.google.com/assets/colab-badge.svg\" alt=\"Open In Colab\"/></a>"
      ]
    },
    {
      "cell_type": "markdown",
      "source": [
        "# Assignment 07 - Advanced Prompt Engineering Strategies\n",
        "### Part E: Write OpenAI Function Calls\n",
        "\n",
        "### Assignment Description\n",
        "\n",
        "Write a Colab notebook showcasing an example of OpenAI API function calls in a practical use case. Include detailed explanations, inputs, and outputs.\n",
        "\n",
        "\n",
        "### References\n",
        "1. [OpenAI Examples](https://platform.openai.com/examples)"
      ],
      "metadata": {
        "id": "hK0k-EHsBdzR"
      }
    },
    {
      "cell_type": "markdown",
      "source": [
        "### Setup"
      ],
      "metadata": {
        "id": "ydF7_SdUCWDc"
      }
    },
    {
      "cell_type": "markdown",
      "source": [
        "#### Install Required Packages"
      ],
      "metadata": {
        "id": "QETKpIRBDFF2"
      }
    },
    {
      "cell_type": "code",
      "source": [
        "# Install required packages\n",
        "!pip install -q openai langchain langchain_community"
      ],
      "metadata": {
        "id": "qUJTxXjHCYM-"
      },
      "execution_count": null,
      "outputs": []
    },
    {
      "cell_type": "markdown",
      "source": [
        "#### Import Necessary Libraries"
      ],
      "metadata": {
        "id": "gHufTK2-DIT1"
      }
    },
    {
      "cell_type": "code",
      "source": [
        "# Import necessary libraries\n",
        "from openai import OpenAI\n",
        "from google.colab import userdata\n",
        "from langchain_community.llms import OpenAI as LangChainOpenAI\n",
        "from langchain_core.prompts import PromptTemplate\n",
        "from langchain.chains import LLMChain\n",
        "from typing import List\n",
        "import json\n",
        "import os"
      ],
      "metadata": {
        "id": "abxUC2BKCHXL"
      },
      "execution_count": null,
      "outputs": []
    },
    {
      "cell_type": "markdown",
      "source": [
        "#### Set API Keys"
      ],
      "metadata": {
        "id": "KJiJA7MlDMRF"
      }
    },
    {
      "cell_type": "code",
      "source": [
        "open_ai_api_key = userdata.get('OPENAI_KEY')\n",
        "os.environ[\"OPENAI_API_KEY\"] = open_ai_api_key"
      ],
      "metadata": {
        "id": "YAhGQ3bCChRp"
      },
      "execution_count": null,
      "outputs": []
    },
    {
      "cell_type": "markdown",
      "source": [
        "#### Initialize Clients"
      ],
      "metadata": {
        "id": "zOSSyY9NDOZV"
      }
    },
    {
      "cell_type": "code",
      "source": [
        "# Initialize OpenAI client\n",
        "client = OpenAI(api_key=open_ai_api_key)"
      ],
      "metadata": {
        "id": "D2XuDlmnC4gq"
      },
      "execution_count": null,
      "outputs": []
    },
    {
      "cell_type": "code",
      "source": [
        "# Function to test prompts\n",
        "def test_prompt(prompt, model=\"gpt-3.5-turbo\", max_tokens=500):\n",
        "    response = client.chat.completions.create(\n",
        "        model=model,\n",
        "        messages=[{\"role\": \"user\", \"content\": prompt}],\n",
        "        max_tokens=max_tokens,\n",
        "        temperature=0\n",
        "    )\n",
        "    returned_response = response.choices[0].message.content.strip()\n",
        "    return returned_response"
      ],
      "metadata": {
        "id": "ffGwGV4DkhJi"
      },
      "execution_count": null,
      "outputs": []
    },
    {
      "cell_type": "markdown",
      "source": [
        "## Implement OpenAI Examples with OpenAI API"
      ],
      "metadata": {
        "id": "TC7AhgvKd-Ui"
      }
    },
    {
      "cell_type": "code",
      "source": [
        "def test_prompt(prompt, model=\"gpt-3.5-turbo\", max_tokens=500):\n",
        "    response = client.chat.completions.create(\n",
        "        model=model,\n",
        "        messages=[{\"role\": \"user\", \"content\": prompt}],\n",
        "        max_tokens=max_tokens,\n",
        "        temperature=0  # Set temperature to 0 for deterministic output\n",
        "    )\n",
        "    return response.choices[0].message.content.strip()"
      ],
      "metadata": {
        "id": "jI-OTxFDgQcX"
      },
      "execution_count": null,
      "outputs": []
    },
    {
      "cell_type": "markdown",
      "source": [
        "### Summarization Example"
      ],
      "metadata": {
        "id": "CnxreUJafDcP"
      }
    },
    {
      "cell_type": "code",
      "source": [
        "# Summarization Example\n",
        "\n",
        "def summarize_text(text):\n",
        "  return test_prompt(f\"Summarize the following text:\\n\\n{text}\")\n",
        "\n",
        "# Test the summarization function\n",
        "long_text = \"\"\"\n",
        "Artificial intelligence (AI) refers to the simulation of human intelligence in machines that are programmed to think like humans and mimic their actions.\n",
        "The term may also be applied to any machine that exhibits traits associated with a human mind such as learning and problem-solving.\n",
        "AI has become an essential part of the technology industry, helping to solve many challenging problems in computer science.\n",
        "\"\"\"\n",
        "\n",
        "summary = summarize_text(long_text)\n",
        "print(\"Summary:\")\n",
        "print(summary)"
      ],
      "metadata": {
        "colab": {
          "base_uri": "https://localhost:8080/"
        },
        "id": "L_JDT9NHeDlZ",
        "outputId": "868a28ee-9c6f-4f87-9eda-de73be0e933f"
      },
      "execution_count": null,
      "outputs": [
        {
          "output_type": "stream",
          "name": "stdout",
          "text": [
            "Summary:\n",
            "Artificial intelligence (AI) is the simulation of human intelligence in machines, allowing them to think and act like humans. It is used in various industries, particularly in technology, to solve complex problems in computer science.\n"
          ]
        }
      ]
    },
    {
      "cell_type": "markdown",
      "source": [
        "### Translation Example"
      ],
      "metadata": {
        "id": "eB4l1Jt-fGXh"
      }
    },
    {
      "cell_type": "code",
      "source": [
        "# Translation Example\n",
        "\n",
        "def translate_text(text, target_language):\n",
        "    prompt=f\"Translate the following English text to {target_language}:\\n\\n{text}\"\n",
        "    return test_prompt(prompt)\n",
        "\n",
        "# Test the translation function\n",
        "original_text = \"Machine learning enables computers to learn from data and improve over time without being explicitly programmed.\"\n",
        "translated_text = translate_text(original_text, \"French\")\n",
        "print(\"Original text:\")\n",
        "print(original_text)\n",
        "print(\"\\nTranslated text:\")\n",
        "print(translated_text)"
      ],
      "metadata": {
        "colab": {
          "base_uri": "https://localhost:8080/"
        },
        "id": "9Lpx79MLeIhG",
        "outputId": "587689aa-c913-41c4-dd98-6d94919a6a13"
      },
      "execution_count": null,
      "outputs": [
        {
          "output_type": "stream",
          "name": "stdout",
          "text": [
            "Original text:\n",
            "Machine learning enables computers to learn from data and improve over time without being explicitly programmed.\n",
            "\n",
            "Translated text:\n",
            "L'apprentissage automatique permet aux ordinateurs d'apprendre à partir de données et de s'améliorer avec le temps sans être explicitement programmés.\n"
          ]
        }
      ]
    },
    {
      "cell_type": "markdown",
      "source": [
        "### Question Answering Example"
      ],
      "metadata": {
        "id": "WtgM_M4gfITb"
      }
    },
    {
      "cell_type": "code",
      "source": [
        "\"\"\"### Question Answering Example\"\"\"\n",
        "\n",
        "# Question Answering Example\n",
        "\n",
        "def answer_question(question, context):\n",
        "    prompt=f\"Use the following context to answer the question:\\n\\nContext: {context}\\n\\nQuestion: {question}\\nAnswer:\"\n",
        "    return test_prompt(prompt)\n",
        "\n",
        "# Test the question answering function\n",
        "context_text = \"\"\"\n",
        "The Great Wall of China is a series of fortifications that were built across the historical northern borders of ancient Chinese states.\n",
        "It was constructed to protect Chinese states and empires against various nomadic groups from the Eurasian Steppe.\n",
        "\"\"\"\n",
        "\n",
        "question = \"Why was the Great Wall of China built?\"\n",
        "answer = answer_question(question, context_text)\n",
        "print(\"Question:\")\n",
        "print(question)\n",
        "print(\"\\nAnswer:\")\n",
        "print(answer)\n",
        "\n"
      ],
      "metadata": {
        "colab": {
          "base_uri": "https://localhost:8080/"
        },
        "id": "BHHW1iG0eKNI",
        "outputId": "7f9d38a1-4e7a-465e-ec94-3dfd2676daaa"
      },
      "execution_count": null,
      "outputs": [
        {
          "output_type": "stream",
          "name": "stdout",
          "text": [
            "Question:\n",
            "Why was the Great Wall of China built?\n",
            "\n",
            "Answer:\n",
            "The Great Wall of China was built to protect Chinese states and empires against various nomadic groups from the Eurasian Steppe.\n"
          ]
        }
      ]
    },
    {
      "cell_type": "markdown",
      "source": [
        "### Chatbot Example"
      ],
      "metadata": {
        "id": "4UE7zod-fKZH"
      }
    },
    {
      "cell_type": "code",
      "source": [
        "\"\"\"### Chatbot Example\"\"\"\n",
        "\n",
        "# Chatbot Example\n",
        "\n",
        "def chat_with_bot(user_input, conversation_history=None):\n",
        "    if conversation_history is None:\n",
        "        conversation_history = []\n",
        "    conversation_history.append({\"role\": \"user\", \"content\": user_input})\n",
        "    response = client.chat.completions.create(model=\"gpt-3.5-turbo\",\n",
        "    messages=conversation_history)\n",
        "    bot_reply = response.choices[0].message.content.strip()\n",
        "    conversation_history.append({\"role\": \"assistant\", \"content\": bot_reply})\n",
        "    return bot_reply, conversation_history\n",
        "\n",
        "# Test the chatbot\n",
        "conversation_history = []\n",
        "user_input = \"Hello, how are you?\"\n",
        "bot_reply, conversation_history = chat_with_bot(user_input, conversation_history)\n",
        "print(\"Bot reply:\")\n",
        "print(bot_reply)\n",
        "\n",
        "# Continue the conversation\n",
        "user_input = \"Can you recommend a good book on machine learning?\"\n",
        "bot_reply, conversation_history = chat_with_bot(user_input, conversation_history)\n",
        "print(\"\\nBot reply:\")\n",
        "print(bot_reply)\n",
        "\n"
      ],
      "metadata": {
        "colab": {
          "base_uri": "https://localhost:8080/"
        },
        "id": "LfQLxV8JeSB4",
        "outputId": "1b92c643-7f05-4a77-cdd6-2836ad9c07f9"
      },
      "execution_count": null,
      "outputs": [
        {
          "output_type": "stream",
          "name": "stdout",
          "text": [
            "Bot reply:\n",
            "Hello! I'm just a computer program, so I don't have feelings, but I'm here and ready to help you with anything you need. How can I assist you today?\n",
            "\n",
            "Bot reply:\n",
            "Of course! One highly recommended book on machine learning is \"Hands-On Machine Learning with Scikit-Learn, Keras, and TensorFlow\" by Aurélien Géron. This book provides a comprehensive and practical guide to machine learning concepts and techniques using popular Python libraries. It covers both theoretical aspects and hands-on exercises to help you build a strong foundation in machine learning. I hope you find this recommendation helpful! Let me know if you need help with anything else.\n"
          ]
        }
      ]
    },
    {
      "cell_type": "markdown",
      "source": [
        "### Rap Battle Writer"
      ],
      "metadata": {
        "id": "vOw_-7mXfP6X"
      }
    },
    {
      "cell_type": "code",
      "source": [
        "\"\"\"### Rap Battle Writer\"\"\"\n",
        "\n",
        "# Rap Battle Writer\n",
        "\n",
        "prompt = \"Write a rap battle between Donald Trump and Elon Musk.\"\n",
        "rap = test_prompt(prompt)\n",
        "\n",
        "print(f\"Prompt: {prompt}\")\n",
        "print(f\"Generated Rap Battle:\\n{rap}\")"
      ],
      "metadata": {
        "colab": {
          "base_uri": "https://localhost:8080/"
        },
        "id": "7j3eIV5EeaI2",
        "outputId": "0b839a33-3844-4a2f-e56b-e78a0ab7daf1"
      },
      "execution_count": null,
      "outputs": [
        {
          "output_type": "stream",
          "name": "stdout",
          "text": [
            "Prompt: Write a rap battle between Donald Trump and Elon Musk.\n",
            "Generated Rap Battle:\n",
            "Donald Trump:\n",
            "I'm the president, the king of the land\n",
            "You're just a tech nerd with a rocket in your hand\n",
            "I build walls, you build cars\n",
            "I'm a billionaire, you're just a star\n",
            "\n",
            "Elon Musk:\n",
            "You may be the president, but I'm the future\n",
            "I'm building rockets to explore the universe\n",
            "You talk big, but I walk the walk\n",
            "I'll leave you in the dust with my electric shock\n",
            "\n",
            "Donald Trump:\n",
            "You may have Tesla, but I have Trump Tower\n",
            "I'm a real estate mogul with ultimate power\n",
            "I'll make America great again, just watch me\n",
            "You may have SpaceX, but I'm the one they'll see\n",
            "\n",
            "Elon Musk:\n",
            "You may have towers, but I have Mars\n",
            "I'll colonize planets while you sit in your cars\n",
            "I'm changing the world with my innovation\n",
            "You're stuck in the past, a failed imitation\n",
            "\n",
            "Donald Trump:\n",
            "I may be controversial, but I get things done\n",
            "I'll make America strong, number one\n",
            "You may have big dreams, but I have reality\n",
            "I'll always be the one with true vitality\n",
            "\n",
            "Elon Musk:\n",
            "You may have power, but I have vision\n",
            "I'll lead humanity to a new mission\n",
            "I'll build a future that's bright and bold\n",
            "While you're stuck in the past, growing old\n",
            "\n",
            "In the end, it's clear who's the winner\n",
            "Elon Musk's innovation is the ultimate sinner\n",
            "Donald Trump may have fame and fortune\n",
            "But Elon Musk's legacy will never be forgotten.\n"
          ]
        }
      ]
    },
    {
      "cell_type": "markdown",
      "source": [
        "Natural language to SQL\n"
      ],
      "metadata": {
        "id": "I3FG-7YLegMc"
      }
    },
    {
      "cell_type": "code",
      "source": [
        "from openai import OpenAI\n",
        "client = OpenAI()\n",
        "\n",
        "response = client.chat.completions.create(\n",
        "  model=\"gpt-4o\",\n",
        "  messages=[\n",
        "    {\n",
        "      \"role\": \"system\",\n",
        "      \"content\": \"Given the following SQL tables, your job is to write queries given a user’s request.\\n    \\n    CREATE TABLE Orders (\\n      OrderID int,\\n      CustomerID int,\\n      OrderDate datetime,\\n      OrderTime varchar(8),\\n      PRIMARY KEY (OrderID)\\n    );\\n    \\n    CREATE TABLE OrderDetails (\\n      OrderDetailID int,\\n      OrderID int,\\n      ProductID int,\\n      Quantity int,\\n      PRIMARY KEY (OrderDetailID)\\n    );\\n    \\n    CREATE TABLE Products (\\n      ProductID int,\\n      ProductName varchar(50),\\n      Category varchar(50),\\n      UnitPrice decimal(10, 2),\\n      Stock int,\\n      PRIMARY KEY (ProductID)\\n    );\\n    \\n    CREATE TABLE Customers (\\n      CustomerID int,\\n      FirstName varchar(50),\\n      LastName varchar(50),\\n      Email varchar(100),\\n      Phone varchar(20),\\n      PRIMARY KEY (CustomerID)\\n    );\"\n",
        "    },\n",
        "    {\n",
        "      \"role\": \"user\",\n",
        "      \"content\": \"Write a SQL query which computes the average total order value for all orders on 2023-04-01.\"\n",
        "    }\n",
        "  ],\n",
        "  temperature=0.7,\n",
        "  max_tokens=500,\n",
        "  top_p=1\n",
        ")\n",
        "\n",
        "print(response.choices[0].message.content.strip())\n"
      ],
      "metadata": {
        "colab": {
          "base_uri": "https://localhost:8080/"
        },
        "id": "dexZmEcdegsJ",
        "outputId": "aacc97b7-c0da-4c02-c531-12c81e04f543"
      },
      "execution_count": null,
      "outputs": [
        {
          "output_type": "stream",
          "name": "stdout",
          "text": [
            "To compute the average total order value for all orders on 2023-04-01, you can use the following SQL query:\n",
            "\n",
            "```sql\n",
            "SELECT AVG(TotalOrderValue) AS AverageOrderValue\n",
            "FROM (\n",
            "    SELECT o.OrderID, SUM(od.Quantity * p.UnitPrice) AS TotalOrderValue\n",
            "    FROM Orders o\n",
            "    JOIN OrderDetails od ON o.OrderID = od.OrderID\n",
            "    JOIN Products p ON od.ProductID = p.ProductID\n",
            "    WHERE o.OrderDate = '2023-04-01'\n",
            "    GROUP BY o.OrderID\n",
            ") AS OrderValues;\n",
            "```\n",
            "\n",
            "This query calculates the total value for each order made on 2023-04-01 by joining the `Orders`, `OrderDetails`, and `Products` tables, multiplying the quantity of each product by its unit price, and then summing these values for each order. It then computes the average of these total order values.\n"
          ]
        }
      ]
    },
    {
      "cell_type": "markdown",
      "source": [
        "### Natural Language to SQL Generator"
      ],
      "metadata": {
        "id": "RKIc3VQOkyhY"
      }
    },
    {
      "cell_type": "code",
      "source": [
        "\"\"\"Natural language to SQL\"\"\"\n",
        "\n",
        "from openai import OpenAI\n",
        "client = OpenAI()\n",
        "\n",
        "response = client.chat.completions.create(\n",
        "  model=\"gpt-4o\",\n",
        "  messages=[\n",
        "    {\n",
        "      \"role\": \"system\",\n",
        "      \"content\": \"Given the following SQL tables, your job is to write queries given a user’s request.\\n    \\n    CREATE TABLE Orders (\\n      OrderID int,\\n      CustomerID int,\\n      OrderDate datetime,\\n      OrderTime varchar(8),\\n      PRIMARY KEY (OrderID)\\n    );\\n    \\n    CREATE TABLE OrderDetails (\\n      OrderDetailID int,\\n      OrderID int,\\n      ProductID int,\\n      Quantity int,\\n      PRIMARY KEY (OrderDetailID)\\n    );\\n    \\n    CREATE TABLE Products (\\n      ProductID int,\\n      ProductName varchar(50),\\n      Category varchar(50),\\n      UnitPrice decimal(10, 2),\\n      Stock int,\\n      PRIMARY KEY (ProductID)\\n    );\\n    \\n    CREATE TABLE Customers (\\n      CustomerID int,\\n      FirstName varchar(50),\\n      LastName varchar(50),\\n      Email varchar(100),\\n      Phone varchar(20),\\n      PRIMARY KEY (CustomerID)\\n    );\"\n",
        "    },\n",
        "    {\n",
        "      \"role\": \"user\",\n",
        "      \"content\": \"Write a SQL query which computes the average total order value for all orders on 2023-04-01.\"\n",
        "    }\n",
        "  ],\n",
        "  temperature=0.7,\n",
        "  max_tokens=500,\n",
        "  top_p=1\n",
        ")\n",
        "\n",
        "print(response.choices[0].message.content.strip())\n",
        "\n"
      ],
      "metadata": {
        "colab": {
          "base_uri": "https://localhost:8080/"
        },
        "id": "cHvHNXzBk1lD",
        "outputId": "e31a9508-624b-4050-d403-578ba5930ec9"
      },
      "execution_count": null,
      "outputs": [
        {
          "output_type": "stream",
          "name": "stdout",
          "text": [
            "To compute the average total order value for all orders on 2023-04-01, we need to join the `Orders`, `OrderDetails`, and `Products` tables to calculate the total value of each order and then compute the average. Here's the SQL query:\n",
            "\n",
            "```sql\n",
            "SELECT AVG(TotalOrderValue) AS AverageOrderValue\n",
            "FROM (\n",
            "    SELECT o.OrderID, SUM(od.Quantity * p.UnitPrice) AS TotalOrderValue\n",
            "    FROM Orders o\n",
            "    JOIN OrderDetails od ON o.OrderID = od.OrderID\n",
            "    JOIN Products p ON od.ProductID = p.ProductID\n",
            "    WHERE o.OrderDate = '2023-04-01'\n",
            "    GROUP BY o.OrderID\n",
            ") AS OrderTotals;\n",
            "```\n",
            "\n",
            "This query does the following:\n",
            "1. It joins the `Orders`, `OrderDetails`, and `Products` tables to get the unit price and quantity for each product in an order.\n",
            "2. It calculates the total value of each order by summing the product of quantity and unit price.\n",
            "3. It filters the orders to only include those on the date '2023-04-01'.\n",
            "4. It computes the average of these total order values.\n"
          ]
        }
      ]
    },
    {
      "cell_type": "markdown",
      "source": [
        "### Parse Unstructured Data"
      ],
      "metadata": {
        "id": "rTLnXIhCeoyo"
      }
    },
    {
      "cell_type": "code",
      "source": [
        "\"\"\"### Parse Unstructured Data\"\"\"\n",
        "\n",
        "from openai import OpenAI\n",
        "client = OpenAI()\n",
        "\n",
        "response = client.chat.completions.create(\n",
        "  model=\"gpt-4o\",\n",
        "  messages=[\n",
        "    {\n",
        "      \"role\": \"system\",\n",
        "      \"content\": \"You will be provided with unstructured data, and your task is to parse it into CSV format.\"\n",
        "    },\n",
        "    {\n",
        "      \"role\": \"user\",\n",
        "      \"content\": \"There are many fruits that were found on the recently discovered planet Goocrux. There are neoskizzles that grow there, which are purple and taste like candy. There are also loheckles, which are a grayish blue fruit and are very tart, a little bit like a lemon. Pounits are a bright green color and are more savory than sweet. There are also plenty of loopnovas which are a neon pink flavor and taste like cotton candy. Finally, there are fruits called glowls, which have a very sour and bitter taste which is acidic and caustic, and a pale orange tinge to them.\"\n",
        "    }\n",
        "  ],\n",
        "  temperature=0.7,\n",
        "  max_tokens=500,\n",
        "  top_p=1\n",
        ")\n",
        "\n",
        "\n",
        "print(response.choices[0].message.content.strip())\n"
      ],
      "metadata": {
        "colab": {
          "base_uri": "https://localhost:8080/"
        },
        "id": "y-ymBkRHeiXZ",
        "outputId": "b3cbadac-c350-44db-e341-e0623bd7ed41"
      },
      "execution_count": null,
      "outputs": [
        {
          "output_type": "stream",
          "name": "stdout",
          "text": [
            "```csv\n",
            "Fruit,Color,Taste\n",
            "Neoskizzles,Purple,Candy-like\n",
            "Loheckles,Grayish Blue,Tart (like lemon)\n",
            "Pounits,Bright Green,Savory\n",
            "Loopnovas,Neon Pink,Cotton candy-like\n",
            "Glowls,Pale Orange,Sour and bitter, acidic and caustic\n",
            "```\n"
          ]
        }
      ]
    },
    {
      "cell_type": "markdown",
      "source": [
        "### Calculate Time Complexity"
      ],
      "metadata": {
        "id": "9dP4u_gXeyIx"
      }
    },
    {
      "cell_type": "code",
      "source": [
        "\"\"\"### Calculate Time Complexity\"\"\"\n",
        "\n",
        "from openai import OpenAI\n",
        "client = OpenAI()\n",
        "\n",
        "response = client.chat.completions.create(\n",
        "  model=\"gpt-4o\",\n",
        "  messages=[\n",
        "    {\n",
        "      \"role\": \"system\",\n",
        "      \"content\": \"You will be provided with Python code, and your task is to calculate its time complexity.\"\n",
        "    },\n",
        "    {\n",
        "      \"role\": \"user\",\n",
        "      \"content\": \"def foo(n, k):\\n        accum = 0\\n        for i in range(n):\\n            for l in range(k):\\n                accum += i\\n        return accum\"\n",
        "    }\n",
        "  ],\n",
        "  temperature=0.7,\n",
        "  max_tokens=500,\n",
        "  top_p=1\n",
        ")\n",
        "\n",
        "print(response.choices[0].message.content.strip())\n"
      ],
      "metadata": {
        "colab": {
          "base_uri": "https://localhost:8080/"
        },
        "id": "9LRynwSLeyXP",
        "outputId": "26824179-f31e-4768-97c3-91dd01063fb7"
      },
      "execution_count": null,
      "outputs": [
        {
          "output_type": "stream",
          "name": "stdout",
          "text": [
            "To determine the time complexity of the given function `foo(n, k)`, let's analyze the structure of the code:\n",
            "\n",
            "1. The function contains two nested loops:\n",
            "   - The outer loop runs `n` times (`for i in range(n):`).\n",
            "   - The inner loop runs `k` times (`for l in range(k):`).\n",
            "\n",
            "2. Inside the inner loop, a simple operation is performed: `accum += i`.\n",
            "\n",
            "Since the inner loop runs `k` times for each iteration of the outer loop (which runs `n` times), the total number of iterations of the inner operation is `n * k`.\n",
            "\n",
            "Therefore, the time complexity of the function is \\(O(n \\times k)\\).\n"
          ]
        }
      ]
    }
  ]
}