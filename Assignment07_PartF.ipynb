{
  "nbformat": 4,
  "nbformat_minor": 0,
  "metadata": {
    "colab": {
      "provenance": [],
      "toc_visible": true,
      "machine_shape": "hm",
      "gpuType": "T4",
      "authorship_tag": "ABX9TyPeL8DO07Um7WmSJaQ6JrJo",
      "include_colab_link": true
    },
    "kernelspec": {
      "name": "python3",
      "display_name": "Python 3"
    },
    "language_info": {
      "name": "python"
    },
    "accelerator": "GPU"
  },
  "cells": [
    {
      "cell_type": "markdown",
      "metadata": {
        "id": "view-in-github",
        "colab_type": "text"
      },
      "source": [
        "<a href=\"https://colab.research.google.com/github/schumbar/CMPE297/blob/main/assignment_07/ShawnChumbar_Assignment07_PartF.ipynb\" target=\"_parent\"><img src=\"https://colab.research.google.com/assets/colab-badge.svg\" alt=\"Open In Colab\"/></a>"
      ]
    },
    {
      "cell_type": "markdown",
      "source": [
        "# Assignment 07 - Advanced Prompt Engineering Strategies\n",
        "### Part F: System Prompt Example\n",
        "\n",
        "### Assignment Description\n",
        "\n",
        "Develop a use case that demonstrates how to effectively use system prompts in OpenAI. Include an example implementation in Colab, highlighting its application and results."
      ],
      "metadata": {
        "id": "hK0k-EHsBdzR"
      }
    },
    {
      "cell_type": "markdown",
      "source": [
        "### Setup"
      ],
      "metadata": {
        "id": "ydF7_SdUCWDc"
      }
    },
    {
      "cell_type": "markdown",
      "source": [
        "#### Install Required Packages"
      ],
      "metadata": {
        "id": "QETKpIRBDFF2"
      }
    },
    {
      "cell_type": "code",
      "source": [
        "# Install required packages\n",
        "!pip install -q openai"
      ],
      "metadata": {
        "id": "qUJTxXjHCYM-"
      },
      "execution_count": null,
      "outputs": []
    },
    {
      "cell_type": "markdown",
      "source": [
        "#### Import Necessary Libraries"
      ],
      "metadata": {
        "id": "gHufTK2-DIT1"
      }
    },
    {
      "cell_type": "code",
      "source": [
        "# Import necessary libraries\n",
        "from openai import OpenAI\n",
        "from google.colab import userdata\n",
        "import json\n",
        "import os"
      ],
      "metadata": {
        "id": "abxUC2BKCHXL"
      },
      "execution_count": null,
      "outputs": []
    },
    {
      "cell_type": "markdown",
      "source": [
        "#### Set API Keys"
      ],
      "metadata": {
        "id": "KJiJA7MlDMRF"
      }
    },
    {
      "cell_type": "code",
      "source": [
        "open_ai_api_key = userdata.get('OPENAI_KEY')\n",
        "os.environ[\"OPENAI_API_KEY\"] = open_ai_api_key"
      ],
      "metadata": {
        "id": "YAhGQ3bCChRp"
      },
      "execution_count": null,
      "outputs": []
    },
    {
      "cell_type": "markdown",
      "source": [
        "#### Initialize Clients"
      ],
      "metadata": {
        "id": "zOSSyY9NDOZV"
      }
    },
    {
      "cell_type": "code",
      "source": [
        "# Initialize OpenAI client\n",
        "client = OpenAI()"
      ],
      "metadata": {
        "id": "D2XuDlmnC4gq"
      },
      "execution_count": null,
      "outputs": []
    },
    {
      "cell_type": "markdown",
      "source": [
        "### Define System Prompt"
      ],
      "metadata": {
        "id": "0ypW3zTS9Q2P"
      }
    },
    {
      "cell_type": "code",
      "source": [
        "# Define the messages with a system prompt\n",
        "messages = [\n",
        "    {\n",
        "        \"role\": \"system\",\n",
        "        \"content\": \"You are a helpful assistant that specializes in providing detailed explanations about climate change.\"\n",
        "    },\n",
        "    {\n",
        "        \"role\": \"user\",\n",
        "        \"content\": \"Can you explain the greenhouse effect?\"\n",
        "    }\n",
        "]"
      ],
      "metadata": {
        "id": "5NMi2T1s6uee"
      },
      "execution_count": null,
      "outputs": []
    },
    {
      "cell_type": "markdown",
      "source": [
        "### Create Chat Completion using OpenAI API"
      ],
      "metadata": {
        "id": "mNYUTONX9Tzc"
      }
    },
    {
      "cell_type": "code",
      "source": [
        "# Create a chat completion using the OpenAI API\n",
        "response = client.chat.completions.create(model=\"gpt-3.5-turbo\",  # You can use \"gpt-4\" if you have access\n",
        "messages=messages)"
      ],
      "metadata": {
        "id": "7h6c_5Dl9Kdj"
      },
      "execution_count": null,
      "outputs": []
    },
    {
      "cell_type": "markdown",
      "source": [
        "### Extract and Print the Assistant's Reply"
      ],
      "metadata": {
        "id": "oWs22YxH9WFO"
      }
    },
    {
      "cell_type": "code",
      "source": [
        "# Extract and print the assistant's reply\n",
        "assistant_reply = response.choices[0].message.content\n",
        "print(assistant_reply)"
      ],
      "metadata": {
        "colab": {
          "base_uri": "https://localhost:8080/"
        },
        "id": "vjDI73l69KbK",
        "outputId": "8ea25d51-744e-4030-f947-858566a00314"
      },
      "execution_count": null,
      "outputs": [
        {
          "output_type": "stream",
          "name": "stdout",
          "text": [
            "Of course! The greenhouse effect is a natural process that warms the Earth's surface. It occurs when sunlight enters the Earth's atmosphere and is absorbed by the Earth's surface. The Earth then radiates some of this energy back towards space in the form of infrared radiation (heat).\n",
            "\n",
            "However, some of this infrared radiation is trapped by greenhouse gases in the Earth's atmosphere, such as carbon dioxide, methane, water vapor, and nitrous oxide. These gases act like a blanket around the Earth, allowing sunlight to enter but trapping heat that would otherwise escape into space. This trapped heat warms the Earth's surface and helps to maintain temperatures that are suitable for life.\n",
            "\n",
            "While the greenhouse effect is a natural and essential process for supporting life on Earth, human activities, such as burning fossil fuels and deforestation, have increased the concentration of greenhouse gases in the atmosphere. This enhanced greenhouse effect is causing the Earth's average temperature to rise, leading to global warming and climate change. It is important for us to reduce our greenhouse gas emissions to mitigate the impacts of climate change.\n"
          ]
        }
      ]
    }
  ]
}